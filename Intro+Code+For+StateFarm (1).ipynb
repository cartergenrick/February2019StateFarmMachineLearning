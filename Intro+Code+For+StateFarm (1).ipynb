{
 "cells": [
  {
   "cell_type": "code",
   "execution_count": 46,
   "metadata": {
    "collapsed": true
   },
   "outputs": [],
   "source": [
    "import os, json\n",
    "from glob import glob\n",
    "import numpy as np"
   ]
  },
  {
   "cell_type": "code",
   "execution_count": 43,
   "metadata": {
    "collapsed": true
   },
   "outputs": [],
   "source": [
    "class Configuration:\n",
    "    def __init__(self):\n",
    "        self.epochs = 10\n",
    "        self.batch_size = 16\n",
    "        self.maxwidth =0\n",
    "        self.maxheight=0\n",
    "        self.minwidth = 35000\n",
    "        self.minheight = 35000\n",
    "        self.imgcount=0\n",
    "        self.img_width_adjust = 480\n",
    "        self.img_height_adjust= 360\n",
    "\n"
   ]
  },
  {
   "cell_type": "code",
   "execution_count": 44,
   "metadata": {
    "collapsed": true
   },
   "outputs": [],
   "source": [
    "config = Configuration()"
   ]
  },
  {
   "cell_type": "code",
   "execution_count": 38,
   "metadata": {
    "collapsed": true
   },
   "outputs": [],
   "source": [
    "from keras import optimizers\n",
    "import pandas as pd\n",
    "from sklearn import datasets, linear_model\n",
    "from sklearn.model_selection import train_test_split\n",
    "from matplotlib import pyplot as plt"
   ]
  },
  {
   "cell_type": "code",
   "execution_count": 6,
   "metadata": {
    "collapsed": true
   },
   "outputs": [],
   "source": [
    "from sklearn.preprocessing import OneHotEncoder"
   ]
  },
  {
   "cell_type": "code",
   "execution_count": 47,
   "metadata": {},
   "outputs": [],
   "source": [
    "from sklearn.metrics import confusion_matrix\n",
    "np.set_printoptions(precision=4, linewidth=100)"
   ]
  },
  {
   "cell_type": "code",
   "execution_count": 8,
   "metadata": {
    "collapsed": true
   },
   "outputs": [],
   "source": [
    "from matplotlib import pyplot as plt"
   ]
  },
  {
   "cell_type": "code",
   "execution_count": 9,
   "metadata": {
    "collapsed": true
   },
   "outputs": [],
   "source": [
    "from numpy.random import random, permutation\n",
    "from scipy import misc, ndimage\n",
    "from scipy.ndimage.interpolation import zoom"
   ]
  },
  {
   "cell_type": "code",
   "execution_count": 10,
   "metadata": {},
   "outputs": [
    {
     "name": "stderr",
     "output_type": "stream",
     "text": [
      "Using TensorFlow backend.\n"
     ]
    }
   ],
   "source": [
    "import keras"
   ]
  },
  {
   "cell_type": "code",
   "execution_count": 11,
   "metadata": {
    "collapsed": true
   },
   "outputs": [],
   "source": [
    "from keras import backend as K\n"
   ]
  },
  {
   "cell_type": "code",
   "execution_count": 12,
   "metadata": {
    "collapsed": true
   },
   "outputs": [],
   "source": [
    "from keras.utils.data_utils import get_file"
   ]
  },
  {
   "cell_type": "code",
   "execution_count": 13,
   "metadata": {
    "collapsed": true
   },
   "outputs": [],
   "source": [
    "from keras.models import Sequential"
   ]
  },
  {
   "cell_type": "code",
   "execution_count": 14,
   "metadata": {
    "collapsed": true
   },
   "outputs": [],
   "source": [
    "from keras.layers import Input"
   ]
  },
  {
   "cell_type": "code",
   "execution_count": 15,
   "metadata": {
    "collapsed": true
   },
   "outputs": [],
   "source": [
    "from keras.layers.core import Flatten, Dense, Dropout, Lambda"
   ]
  },
  {
   "cell_type": "code",
   "execution_count": 16,
   "metadata": {
    "collapsed": true
   },
   "outputs": [],
   "source": [
    "from keras.layers.convolutional import Convolution2D, MaxPooling2D, ZeroPadding2D"
   ]
  },
  {
   "cell_type": "code",
   "execution_count": 17,
   "metadata": {
    "collapsed": true
   },
   "outputs": [],
   "source": [
    "from keras.optimizers import SGD, RMSprop"
   ]
  },
  {
   "cell_type": "code",
   "execution_count": 18,
   "metadata": {
    "collapsed": true
   },
   "outputs": [],
   "source": [
    "from keras.preprocessing import image"
   ]
  },
  {
   "cell_type": "code",
   "execution_count": 19,
   "metadata": {
    "collapsed": true
   },
   "outputs": [],
   "source": [
    "from keras import applications"
   ]
  },
  {
   "cell_type": "code",
   "execution_count": 20,
   "metadata": {
    "collapsed": true
   },
   "outputs": [],
   "source": [
    "from keras.layers.convolutional import Conv2D"
   ]
  },
  {
   "cell_type": "code",
   "execution_count": 21,
   "metadata": {
    "collapsed": true
   },
   "outputs": [],
   "source": [
    "from keras.layers.pooling import MaxPooling2D"
   ]
  },
  {
   "cell_type": "code",
   "execution_count": 22,
   "metadata": {
    "collapsed": true
   },
   "outputs": [],
   "source": [
    "from keras.layers.normalization import BatchNormalization"
   ]
  },
  {
   "cell_type": "code",
   "execution_count": 23,
   "metadata": {
    "collapsed": true
   },
   "outputs": [],
   "source": [
    "model = Sequential()"
   ]
  },
  {
   "cell_type": "code",
   "execution_count": 24,
   "metadata": {
    "collapsed": true
   },
   "outputs": [],
   "source": [
    "model.add(Conv2D(16, 3, input_shape = (32,32,3), activation = 'relu'))"
   ]
  },
  {
   "cell_type": "code",
   "execution_count": 25,
   "metadata": {
    "collapsed": true
   },
   "outputs": [],
   "source": [
    "model.add(Conv2D(16,3, activation='relu'))"
   ]
  },
  {
   "cell_type": "code",
   "execution_count": 26,
   "metadata": {
    "collapsed": true
   },
   "outputs": [],
   "source": [
    "model.add(MaxPooling2D(pool_size=(2,2), strides=(2,2)))"
   ]
  },
  {
   "cell_type": "code",
   "execution_count": 27,
   "metadata": {
    "collapsed": true
   },
   "outputs": [],
   "source": [
    "model.add(Conv2D(32,3,activation='relu'))\n",
    "model.add(Conv2D(32,3,activation='relu'))\n",
    "model.add(MaxPooling2D(pool_size=(2,2), strides=(2,2)))"
   ]
  },
  {
   "cell_type": "code",
   "execution_count": 28,
   "metadata": {
    "collapsed": true
   },
   "outputs": [],
   "source": [
    "model.add(Flatten())"
   ]
  },
  {
   "cell_type": "code",
   "execution_count": 29,
   "metadata": {
    "collapsed": true
   },
   "outputs": [],
   "source": [
    "model.add(Dense(10, activation='softmax'))"
   ]
  },
  {
   "cell_type": "code",
   "execution_count": 30,
   "metadata": {
    "collapsed": true
   },
   "outputs": [],
   "source": [
    "from keras.preprocessing.image import ImageDataGenerator"
   ]
  },
  {
   "cell_type": "code",
   "execution_count": 31,
   "metadata": {
    "collapsed": true
   },
   "outputs": [],
   "source": [
    "train_datagen = ImageDataGenerator(rescale = 1./255, shear_range = 0.1, zoom_range = 0.1)"
   ]
  },
  {
   "cell_type": "code",
   "execution_count": 32,
   "metadata": {},
   "outputs": [
    {
     "name": "stdout",
     "output_type": "stream",
     "text": [
      "Found 99 images belonging to 10 classes.\n"
     ]
    }
   ],
   "source": [
    "test_datagen = train_datagen.flow_from_directory('StateFarmTest', target_size=(32,32), batch_size = 4, class_mode = 'categorical')"
   ]
  },
  {
   "cell_type": "code",
   "execution_count": 33,
   "metadata": {},
   "outputs": [
    {
     "name": "stdout",
     "output_type": "stream",
     "text": [
      "Found 200 images belonging to 10 classes.\n"
     ]
    }
   ],
   "source": [
    "train_datagen = train_datagen.flow_from_directory('StateFarmTrain', target_size=(32,32), batch_size = 4, class_mode = 'categorical')"
   ]
  },
  {
   "cell_type": "code",
   "execution_count": 51,
   "metadata": {},
   "outputs": [],
   "source": [
    "sgd = optimizers.SGD(lr=0.01, decay=1e-6, momentum=0.9, nesterov=True)\n",
    "model.compile(loss='categorical_crossentropy', optimizer=sgd, metrics=[\"accuracy\"])\n"
   ]
  },
  {
   "cell_type": "code",
   "execution_count": null,
   "metadata": {
    "collapsed": true
   },
   "outputs": [],
   "source": [
    "lm = linear_model.LinearRegression()\n",
    "model = lm.fit(X_train, y_train)\n",
    "predictions = lm.predict(X_test)"
   ]
  },
  {
   "cell_type": "code",
   "execution_count": 54,
   "metadata": {},
   "outputs": [
    {
     "name": "stdout",
     "output_type": "stream",
     "text": [
      "Epoch 1/100\n",
      "12/12 [==============================] - 0s - loss: 2.3006 - acc: 0.1250 - val_loss: 2.2909 - val_acc: 0.1667\n",
      "Epoch 2/100\n",
      "12/12 [==============================] - 0s - loss: 2.3006 - acc: 0.1250 - val_loss: 2.3005 - val_acc: 0.0833\n",
      "Epoch 3/100\n",
      "12/12 [==============================] - 0s - loss: 2.2878 - acc: 0.1458 - val_loss: 2.3043 - val_acc: 0.0435\n",
      "Epoch 4/100\n",
      "12/12 [==============================] - 0s - loss: 2.2932 - acc: 0.0625 - val_loss: 2.2756 - val_acc: 0.1250\n",
      "Epoch 5/100\n",
      "12/12 [==============================] - 0s - loss: 2.3107 - acc: 0.1458 - val_loss: 2.2978 - val_acc: 0.1667\n",
      "Epoch 6/100\n",
      "12/12 [==============================] - 0s - loss: 2.2767 - acc: 0.1042 - val_loss: 2.3167 - val_acc: 0.0870\n",
      "Epoch 7/100\n",
      "12/12 [==============================] - 0s - loss: 2.3010 - acc: 0.1042 - val_loss: 2.2704 - val_acc: 0.1250\n",
      "Epoch 8/100\n",
      "12/12 [==============================] - 0s - loss: 2.2392 - acc: 0.1042 - val_loss: 2.2711 - val_acc: 0.0833\n",
      "Epoch 9/100\n",
      "12/12 [==============================] - 0s - loss: 2.2398 - acc: 0.1875 - val_loss: 2.1978 - val_acc: 0.1667\n",
      "Epoch 10/100\n",
      "12/12 [==============================] - 0s - loss: 2.2188 - acc: 0.1875 - val_loss: 2.4157 - val_acc: 0.1304\n",
      "Epoch 11/100\n",
      "12/12 [==============================] - 0s - loss: 2.2185 - acc: 0.2083 - val_loss: 2.3069 - val_acc: 0.0833\n",
      "Epoch 12/100\n",
      "12/12 [==============================] - 0s - loss: 2.2369 - acc: 0.1875 - val_loss: 2.1596 - val_acc: 0.2917\n",
      "Epoch 13/100\n",
      "12/12 [==============================] - 0s - loss: 2.2554 - acc: 0.1042 - val_loss: 2.2249 - val_acc: 0.1304\n",
      "Epoch 14/100\n",
      "12/12 [==============================] - 0s - loss: 2.1478 - acc: 0.2708 - val_loss: 2.2116 - val_acc: 0.0833\n",
      "Epoch 15/100\n",
      "12/12 [==============================] - 0s - loss: 2.0737 - acc: 0.2083 - val_loss: 2.3927 - val_acc: 0.1250\n",
      "Epoch 16/100\n",
      "12/12 [==============================] - 0s - loss: 2.1100 - acc: 0.2917 - val_loss: 2.2627 - val_acc: 0.2917\n",
      "Epoch 17/100\n",
      "12/12 [==============================] - 0s - loss: 2.0479 - acc: 0.2917 - val_loss: 2.1428 - val_acc: 0.1739\n",
      "Epoch 18/100\n",
      "12/12 [==============================] - 0s - loss: 2.0426 - acc: 0.2292 - val_loss: 2.0714 - val_acc: 0.2083\n",
      "Epoch 19/100\n",
      "12/12 [==============================] - 0s - loss: 1.8091 - acc: 0.3333 - val_loss: 2.4927 - val_acc: 0.1250\n",
      "Epoch 20/100\n",
      "12/12 [==============================] - 0s - loss: 1.8351 - acc: 0.2708 - val_loss: 2.3283 - val_acc: 0.1667\n",
      "Epoch 21/100\n",
      "12/12 [==============================] - 0s - loss: 2.1005 - acc: 0.1875 - val_loss: 2.1706 - val_acc: 0.2500\n",
      "Epoch 22/100\n",
      "12/12 [==============================] - 0s - loss: 1.6096 - acc: 0.4167 - val_loss: 2.6169 - val_acc: 0.2500\n",
      "Epoch 23/100\n",
      "12/12 [==============================] - 0s - loss: 1.7720 - acc: 0.3333 - val_loss: 2.3195 - val_acc: 0.1667\n",
      "Epoch 24/100\n",
      "12/12 [==============================] - 0s - loss: 1.8444 - acc: 0.2917 - val_loss: 2.3738 - val_acc: 0.2174\n",
      "Epoch 25/100\n",
      "12/12 [==============================] - 0s - loss: 1.7615 - acc: 0.3542 - val_loss: 2.2568 - val_acc: 0.2083\n",
      "Epoch 26/100\n",
      "12/12 [==============================] - 0s - loss: 1.9294 - acc: 0.1875 - val_loss: 2.0701 - val_acc: 0.2083\n",
      "Epoch 27/100\n",
      "12/12 [==============================] - 0s - loss: 1.6101 - acc: 0.4583 - val_loss: 2.8226 - val_acc: 0.2083\n",
      "Epoch 28/100\n",
      "12/12 [==============================] - 0s - loss: 1.4756 - acc: 0.4792 - val_loss: 2.3208 - val_acc: 0.1739\n",
      "Epoch 29/100\n",
      "12/12 [==============================] - 0s - loss: 1.4898 - acc: 0.5417 - val_loss: 2.6561 - val_acc: 0.1667\n",
      "Epoch 30/100\n",
      "12/12 [==============================] - 0s - loss: 1.7400 - acc: 0.3750 - val_loss: 2.3792 - val_acc: 0.2500\n",
      "Epoch 31/100\n",
      "12/12 [==============================] - 0s - loss: 1.5528 - acc: 0.4792 - val_loss: 1.9297 - val_acc: 0.2609\n",
      "Epoch 32/100\n",
      "12/12 [==============================] - 0s - loss: 1.4563 - acc: 0.5208 - val_loss: 1.9080 - val_acc: 0.4167\n",
      "Epoch 33/100\n",
      "12/12 [==============================] - 0s - loss: 1.6034 - acc: 0.4792 - val_loss: 2.2715 - val_acc: 0.2083\n",
      "Epoch 34/100\n",
      "12/12 [==============================] - 0s - loss: 1.0477 - acc: 0.6458 - val_loss: 4.6402 - val_acc: 0.1250\n",
      "Epoch 35/100\n",
      "12/12 [==============================] - 0s - loss: 1.7327 - acc: 0.4375 - val_loss: 1.9852 - val_acc: 0.3043\n",
      "Epoch 36/100\n",
      "12/12 [==============================] - 0s - loss: 1.2047 - acc: 0.5417 - val_loss: 2.7565 - val_acc: 0.1667\n",
      "Epoch 37/100\n",
      "12/12 [==============================] - 0s - loss: 1.1354 - acc: 0.5625 - val_loss: 2.5426 - val_acc: 0.2083\n",
      "Epoch 38/100\n",
      "12/12 [==============================] - 0s - loss: 1.3861 - acc: 0.5417 - val_loss: 2.1512 - val_acc: 0.2174\n",
      "Epoch 39/100\n",
      "12/12 [==============================] - 0s - loss: 1.2367 - acc: 0.5833 - val_loss: 2.5706 - val_acc: 0.2083\n",
      "Epoch 40/100\n",
      "12/12 [==============================] - 0s - loss: 1.2951 - acc: 0.5833 - val_loss: 2.5025 - val_acc: 0.1667\n",
      "Epoch 41/100\n",
      "12/12 [==============================] - 0s - loss: 1.1552 - acc: 0.5833 - val_loss: 2.8409 - val_acc: 0.2500\n",
      "Epoch 42/100\n",
      "12/12 [==============================] - 0s - loss: 1.2843 - acc: 0.4792 - val_loss: 3.3899 - val_acc: 0.1739\n",
      "Epoch 43/100\n",
      "12/12 [==============================] - 0s - loss: 1.2337 - acc: 0.5625 - val_loss: 2.5729 - val_acc: 0.1667\n",
      "Epoch 44/100\n",
      "12/12 [==============================] - 0s - loss: 0.8530 - acc: 0.7083 - val_loss: 3.7492 - val_acc: 0.2083\n",
      "Epoch 45/100\n",
      "12/12 [==============================] - 0s - loss: 1.0968 - acc: 0.6042 - val_loss: 2.6267 - val_acc: 0.3333\n",
      "Epoch 46/100\n",
      "12/12 [==============================] - 0s - loss: 0.9762 - acc: 0.6875 - val_loss: 2.7029 - val_acc: 0.3750\n",
      "Epoch 47/100\n",
      "12/12 [==============================] - 0s - loss: 1.2346 - acc: 0.5833 - val_loss: 2.9645 - val_acc: 0.1250\n",
      "Epoch 48/100\n",
      "12/12 [==============================] - 0s - loss: 0.7921 - acc: 0.7917 - val_loss: 5.2050 - val_acc: 0.1667\n",
      "Epoch 49/100\n",
      "12/12 [==============================] - 0s - loss: 1.2052 - acc: 0.5208 - val_loss: 3.0313 - val_acc: 0.1739\n",
      "Epoch 50/100\n",
      "12/12 [==============================] - 0s - loss: 1.4299 - acc: 0.5417 - val_loss: 2.7514 - val_acc: 0.1667\n",
      "Epoch 51/100\n",
      "12/12 [==============================] - 0s - loss: 1.4049 - acc: 0.5833 - val_loss: 2.1296 - val_acc: 0.2500\n",
      "Epoch 52/100\n",
      "12/12 [==============================] - 0s - loss: 1.0026 - acc: 0.6667 - val_loss: 2.6726 - val_acc: 0.3333\n",
      "Epoch 53/100\n",
      "12/12 [==============================] - 0s - loss: 1.1196 - acc: 0.6667 - val_loss: 3.7540 - val_acc: 0.1739\n",
      "Epoch 54/100\n",
      "12/12 [==============================] - 0s - loss: 0.9048 - acc: 0.7083 - val_loss: 4.0514 - val_acc: 0.1667\n",
      "Epoch 55/100\n",
      "12/12 [==============================] - 0s - loss: 1.0365 - acc: 0.5417 - val_loss: 3.2399 - val_acc: 0.2083\n",
      "Epoch 56/100\n",
      "12/12 [==============================] - 0s - loss: 1.2275 - acc: 0.5625 - val_loss: 3.1897 - val_acc: 0.2174\n",
      "Epoch 57/100\n",
      "12/12 [==============================] - 0s - loss: 0.8195 - acc: 0.7083 - val_loss: 3.0288 - val_acc: 0.2500\n",
      "Epoch 58/100\n",
      "12/12 [==============================] - 0s - loss: 1.1717 - acc: 0.6042 - val_loss: 3.3537 - val_acc: 0.2500\n",
      "Epoch 59/100\n",
      "12/12 [==============================] - 0s - loss: 0.8076 - acc: 0.6458 - val_loss: 2.7942 - val_acc: 0.3333\n",
      "Epoch 60/100\n",
      "12/12 [==============================] - 0s - loss: 0.5385 - acc: 0.8125 - val_loss: 4.2010 - val_acc: 0.3043\n",
      "Epoch 61/100\n",
      "12/12 [==============================] - 0s - loss: 0.6256 - acc: 0.7708 - val_loss: 3.3985 - val_acc: 0.2500\n",
      "Epoch 62/100\n",
      "12/12 [==============================] - 0s - loss: 0.5276 - acc: 0.7917 - val_loss: 3.3827 - val_acc: 0.2083\n",
      "Epoch 63/100\n",
      "12/12 [==============================] - 0s - loss: 1.1766 - acc: 0.6458 - val_loss: 3.4172 - val_acc: 0.1304\n",
      "Epoch 64/100\n",
      "12/12 [==============================] - 0s - loss: 0.9691 - acc: 0.6667 - val_loss: 3.1799 - val_acc: 0.0833\n",
      "Epoch 65/100\n",
      "12/12 [==============================] - 0s - loss: 0.7383 - acc: 0.7500 - val_loss: 6.1913 - val_acc: 0.1667\n",
      "Epoch 66/100\n",
      "12/12 [==============================] - 0s - loss: 1.0607 - acc: 0.7500 - val_loss: 3.5341 - val_acc: 0.2917\n",
      "Epoch 67/100\n"
     ]
    },
    {
     "name": "stdout",
     "output_type": "stream",
     "text": [
      "12/12 [==============================] - 0s - loss: 1.5720 - acc: 0.5208 - val_loss: 2.4060 - val_acc: 0.2174\n",
      "Epoch 68/100\n",
      "12/12 [==============================] - 0s - loss: 0.9387 - acc: 0.7500 - val_loss: 2.9298 - val_acc: 0.2500\n",
      "Epoch 69/100\n",
      "12/12 [==============================] - 0s - loss: 0.5798 - acc: 0.8125 - val_loss: 3.5237 - val_acc: 0.1667\n",
      "Epoch 70/100\n",
      "12/12 [==============================] - 0s - loss: 1.0560 - acc: 0.6667 - val_loss: 3.2400 - val_acc: 0.3333\n",
      "Epoch 71/100\n",
      "12/12 [==============================] - 0s - loss: 0.6724 - acc: 0.7083 - val_loss: 4.4796 - val_acc: 0.2083\n",
      "Epoch 72/100\n",
      "12/12 [==============================] - 0s - loss: 0.9962 - acc: 0.6875 - val_loss: 2.0238 - val_acc: 0.5417\n",
      "Epoch 73/100\n",
      "12/12 [==============================] - 0s - loss: 0.5071 - acc: 0.8750 - val_loss: 4.7556 - val_acc: 0.2500\n",
      "Epoch 74/100\n",
      "12/12 [==============================] - 0s - loss: 0.8351 - acc: 0.6667 - val_loss: 2.8087 - val_acc: 0.3913\n",
      "Epoch 75/100\n",
      "12/12 [==============================] - 0s - loss: 1.1843 - acc: 0.6250 - val_loss: 4.5220 - val_acc: 0.1667\n",
      "Epoch 76/100\n",
      "12/12 [==============================] - 0s - loss: 1.1888 - acc: 0.6458 - val_loss: 4.2630 - val_acc: 0.3333\n",
      "Epoch 77/100\n",
      "12/12 [==============================] - 0s - loss: 0.8549 - acc: 0.6875 - val_loss: 3.6451 - val_acc: 0.2083\n",
      "Epoch 78/100\n",
      "12/12 [==============================] - 0s - loss: 0.9758 - acc: 0.7083 - val_loss: 3.6433 - val_acc: 0.2174\n",
      "Epoch 79/100\n",
      "12/12 [==============================] - 0s - loss: 1.5228 - acc: 0.6250 - val_loss: 2.2966 - val_acc: 0.2083\n",
      "Epoch 80/100\n",
      "12/12 [==============================] - 0s - loss: 1.1484 - acc: 0.6458 - val_loss: 3.0932 - val_acc: 0.2917\n",
      "Epoch 81/100\n",
      "12/12 [==============================] - 0s - loss: 1.4651 - acc: 0.4792 - val_loss: 3.0773 - val_acc: 0.2609\n",
      "Epoch 82/100\n",
      "12/12 [==============================] - 0s - loss: 0.9215 - acc: 0.6667 - val_loss: 4.8086 - val_acc: 0.1667\n",
      "Epoch 83/100\n",
      "12/12 [==============================] - 0s - loss: 0.9491 - acc: 0.7708 - val_loss: 3.5696 - val_acc: 0.2500\n",
      "Epoch 84/100\n",
      "12/12 [==============================] - 0s - loss: 0.9846 - acc: 0.6042 - val_loss: 4.5177 - val_acc: 0.0833\n",
      "Epoch 85/100\n",
      "12/12 [==============================] - 0s - loss: 1.0539 - acc: 0.6875 - val_loss: 3.5515 - val_acc: 0.1304\n",
      "Epoch 86/100\n",
      "12/12 [==============================] - 0s - loss: 0.7123 - acc: 0.7292 - val_loss: 2.2975 - val_acc: 0.3750\n",
      "Epoch 87/100\n",
      "12/12 [==============================] - 0s - loss: 0.5904 - acc: 0.7917 - val_loss: 5.1075 - val_acc: 0.1667\n",
      "Epoch 88/100\n",
      "12/12 [==============================] - 0s - loss: 0.6460 - acc: 0.7500 - val_loss: 5.8004 - val_acc: 0.3043\n",
      "Epoch 89/100\n",
      "12/12 [==============================] - 0s - loss: 1.0661 - acc: 0.7083 - val_loss: 5.7939 - val_acc: 0.3333\n",
      "Epoch 90/100\n",
      "12/12 [==============================] - 0s - loss: 1.1814 - acc: 0.7083 - val_loss: 3.2755 - val_acc: 0.2500\n",
      "Epoch 91/100\n",
      "12/12 [==============================] - 0s - loss: 1.6397 - acc: 0.6042 - val_loss: 3.1625 - val_acc: 0.3333\n",
      "Epoch 92/100\n",
      "12/12 [==============================] - 0s - loss: 0.9624 - acc: 0.7083 - val_loss: 2.6914 - val_acc: 0.2609\n",
      "Epoch 93/100\n",
      "12/12 [==============================] - 0s - loss: 1.0614 - acc: 0.6875 - val_loss: 3.5386 - val_acc: 0.1667\n",
      "Epoch 94/100\n",
      "12/12 [==============================] - 0s - loss: 0.6801 - acc: 0.7708 - val_loss: 4.2516 - val_acc: 0.3750\n",
      "Epoch 95/100\n",
      "12/12 [==============================] - 0s - loss: 1.6482 - acc: 0.4583 - val_loss: 3.9193 - val_acc: 0.1250\n",
      "Epoch 96/100\n",
      "12/12 [==============================] - 0s - loss: 1.4232 - acc: 0.4792 - val_loss: 3.3388 - val_acc: 0.2917\n",
      "Epoch 97/100\n",
      "12/12 [==============================] - 0s - loss: 1.5521 - acc: 0.6042 - val_loss: 2.5917 - val_acc: 0.2500\n",
      "Epoch 98/100\n",
      "12/12 [==============================] - 0s - loss: 1.3534 - acc: 0.4583 - val_loss: 3.1732 - val_acc: 0.3333\n",
      "Epoch 99/100\n",
      "12/12 [==============================] - 0s - loss: 0.9816 - acc: 0.7500 - val_loss: 6.0267 - val_acc: 0.3043\n",
      "Epoch 100/100\n",
      "12/12 [==============================] - 0s - loss: 1.7064 - acc: 0.6250 - val_loss: 2.5547 - val_acc: 0.2083\n"
     ]
    },
    {
     "data": {
      "text/plain": [
       "<keras.callbacks.History at 0x12f395198>"
      ]
     },
     "execution_count": 54,
     "metadata": {},
     "output_type": "execute_result"
    }
   ],
   "source": [
    "model.fit_generator(\n",
    "        train_datagen,\n",
    "        steps_per_epoch=train_datagen.samples // 16,\n",
    "        epochs=100,\n",
    "        validation_data=test_datagen,\n",
    "        validation_steps=test_datagen.samples // 16,\n",
    "        verbose=1)"
   ]
  },
  {
   "cell_type": "code",
   "execution_count": null,
   "metadata": {
    "collapsed": true
   },
   "outputs": [],
   "source": []
  }
 ],
 "metadata": {
  "kernelspec": {
   "display_name": "Python 3",
   "language": "python",
   "name": "python3"
  },
  "language_info": {
   "codemirror_mode": {
    "name": "ipython",
    "version": 3
   },
   "file_extension": ".py",
   "mimetype": "text/x-python",
   "name": "python",
   "nbconvert_exporter": "python",
   "pygments_lexer": "ipython3",
   "version": "3.6.5"
  }
 },
 "nbformat": 4,
 "nbformat_minor": 2
}
